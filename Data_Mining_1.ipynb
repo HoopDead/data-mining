{
 "cells": [
  {
   "cell_type": "code",
   "execution_count": 3,
   "metadata": {},
   "outputs": [],
   "source": [
    "from twitter import *"
   ]
  },
  {
   "cell_type": "code",
   "execution_count": 4,
   "metadata": {},
   "outputs": [],
   "source": [
    "auth = Twitter(auth=OAuth2(bearer_token=\"AAAAAAAAAAAAAAAAAAAAANB1GQEAAAAA5fTWxaqr0PyoHswYsjhTNS0K8BM%3DD3QZdZ2lbHVY2ltankMmqS2rQwNLOF5IaVf3M0OfXT2gatI2kb\"))"
   ]
  },
  {
   "cell_type": "code",
   "execution_count": 5,
   "metadata": {},
   "outputs": [],
   "source": [
    "twitter_api = auth"
   ]
  },
  {
   "cell_type": "code",
   "execution_count": 62,
   "metadata": {},
   "outputs": [
    {
     "name": "stdout",
     "output_type": "stream",
     "text": [
      "<twitter.api.TwitterCall object at 0x7ff3fb61e2e8>\n"
     ]
    }
   ],
   "source": [
    "print(twitter_api.trends)"
   ]
  },
  {
   "cell_type": "code",
   "execution_count": 7,
   "metadata": {},
   "outputs": [
    {
     "name": "stdout",
     "output_type": "stream",
     "text": [
      "<twitter.api.Twitter object at 0x7f2d6840e400>\n"
     ]
    }
   ],
   "source": [
    "print(twitter_api)"
   ]
  },
  {
   "cell_type": "code",
   "execution_count": 13,
   "metadata": {},
   "outputs": [],
   "source": [
    "world_trends = twitter_api.trends.place(_id = 1)"
   ]
  },
  {
   "cell_type": "code",
   "execution_count": 14,
   "metadata": {},
   "outputs": [
    {
     "name": "stdout",
     "output_type": "stream",
     "text": [
      "[{'trends': [{'name': '#SECONDCOUNTDOWN', 'url': 'http://twitter.com/search?q=%23SECONDCOUNTDOWN', 'promoted_content': None, 'query': '%23SECONDCOUNTDOWN', 'tweet_volume': 128400}, {'name': '#ARMYSelcaDay', 'url': 'http://twitter.com/search?q=%23ARMYSelcaDay', 'promoted_content': None, 'query': '%23ARMYSelcaDay', 'tweet_volume': 717258}, {'name': '#えと打って最初に出たのがお前の武器', 'url': 'http://twitter.com/search?q=%23%E3%81%88%E3%81%A8%E6%89%93%E3%81%A3%E3%81%A6%E6%9C%80%E5%88%9D%E3%81%AB%E5%87%BA%E3%81%9F%E3%81%AE%E3%81%8C%E3%81%8A%E5%89%8D%E3%81%AE%E6%AD%A6%E5%99%A8', 'promoted_content': None, 'query': '%23%E3%81%88%E3%81%A8%E6%89%93%E3%81%A3%E3%81%A6%E6%9C%80%E5%88%9D%E3%81%AB%E5%87%BA%E3%81%9F%E3%81%AE%E3%81%8C%E3%81%8A%E5%89%8D%E3%81%AE%E6%AD%A6%E5%99%A8', 'tweet_volume': 10030}, {'name': '#ここでやめんなrunを聴け', 'url': 'http://twitter.com/search?q=%23%E3%81%93%E3%81%93%E3%81%A7%E3%82%84%E3%82%81%E3%82%93%E3%81%AArun%E3%82%92%E8%81%B4%E3%81%91', 'promoted_content': None, 'query': '%23%E3%81%93%E3%81%93%E3%81%A7%E3%82%84%E3%82%81%E3%82%93%E3%81%AArun%E3%82%92%E8%81%B4%E3%81%91', 'tweet_volume': 103711}, {'name': '#LISAforvivoS7', 'url': 'http://twitter.com/search?q=%23LISAforvivoS7', 'promoted_content': None, 'query': '%23LISAforvivoS7', 'tweet_volume': 780244}, {'name': 'The Rock', 'url': 'http://twitter.com/search?q=%22The+Rock%22', 'promoted_content': None, 'query': '%22The+Rock%22', 'tweet_volume': 20864}, {'name': 'RESPECT NIALL', 'url': 'http://twitter.com/search?q=%22RESPECT+NIALL%22', 'promoted_content': None, 'query': '%22RESPECT+NIALL%22', 'tweet_volume': 28633}, {'name': 'Frorida', 'url': 'http://twitter.com/search?q=Frorida', 'promoted_content': None, 'query': 'Frorida', 'tweet_volume': 28864}, {'name': '下野さん', 'url': 'http://twitter.com/search?q=%E4%B8%8B%E9%87%8E%E3%81%95%E3%82%93', 'promoted_content': None, 'query': '%E4%B8%8B%E9%87%8E%E3%81%95%E3%82%93', 'tweet_volume': 16588}, {'name': 'Willian', 'url': 'http://twitter.com/search?q=Willian', 'promoted_content': None, 'query': 'Willian', 'tweet_volume': 35775}, {'name': 'らくがきAR', 'url': 'http://twitter.com/search?q=%E3%82%89%E3%81%8F%E3%81%8C%E3%81%8DAR', 'promoted_content': None, 'query': '%E3%82%89%E3%81%8F%E3%81%8C%E3%81%8DAR', 'tweet_volume': 21140}, {'name': 'Sancho', 'url': 'http://twitter.com/search?q=Sancho', 'promoted_content': None, 'query': 'Sancho', 'tweet_volume': 79223}, {'name': 'John Hume', 'url': 'http://twitter.com/search?q=%22John+Hume%22', 'promoted_content': None, 'query': '%22John+Hume%22', 'tweet_volume': 57887}, {'name': 'Shoprite', 'url': 'http://twitter.com/search?q=Shoprite', 'promoted_content': None, 'query': 'Shoprite', 'tweet_volume': 68906}, {'name': 'Barron', 'url': 'http://twitter.com/search?q=Barron', 'promoted_content': None, 'query': 'Barron', 'tweet_volume': 26960}, {'name': '#태민표감성보컬_투키즈0804', 'url': 'http://twitter.com/search?q=%23%ED%83%9C%EB%AF%BC%ED%91%9C%EA%B0%90%EC%84%B1%EB%B3%B4%EC%BB%AC_%ED%88%AC%ED%82%A4%EC%A6%880804', 'promoted_content': None, 'query': '%23%ED%83%9C%EB%AF%BC%ED%91%9C%EA%B0%90%EC%84%B1%EB%B3%B4%EC%BB%AC_%ED%88%AC%ED%82%A4%EC%A6%880804', 'tweet_volume': 61680}, {'name': '#しゃべくり007', 'url': 'http://twitter.com/search?q=%23%E3%81%97%E3%82%83%E3%81%B9%E3%81%8F%E3%82%8A007', 'promoted_content': None, 'query': '%23%E3%81%97%E3%82%83%E3%81%B9%E3%81%8F%E3%82%8A007', 'tweet_volume': 43688}, {'name': '#KappaNoVasco', 'url': 'http://twitter.com/search?q=%23KappaNoVasco', 'promoted_content': None, 'query': '%23KappaNoVasco', 'tweet_volume': 36271}, {'name': '#CDTVライブライブ', 'url': 'http://twitter.com/search?q=%23CDTV%E3%83%A9%E3%82%A4%E3%83%96%E3%83%A9%E3%82%A4%E3%83%96', 'promoted_content': None, 'query': '%23CDTV%E3%83%A9%E3%82%A4%E3%83%96%E3%83%A9%E3%82%A4%E3%83%96', 'tweet_volume': 55949}, {'name': '#ZimbabweanLivesMatter', 'url': 'http://twitter.com/search?q=%23ZimbabweanLivesMatter', 'promoted_content': None, 'query': '%23ZimbabweanLivesMatter', 'tweet_volume': 318274}, {'name': '#FelizLunes', 'url': 'http://twitter.com/search?q=%23FelizLunes', 'promoted_content': None, 'query': '%23FelizLunes', 'tweet_volume': 23736}, {'name': '#XiaomiMi10', 'url': 'http://twitter.com/search?q=%23XiaomiMi10', 'promoted_content': None, 'query': '%23XiaomiMi10', 'tweet_volume': 27071}, {'name': '#SexyZone_RUN', 'url': 'http://twitter.com/search?q=%23SexyZone_RUN', 'promoted_content': None, 'query': '%23SexyZone_RUN', 'tweet_volume': 50150}, {'name': '#亜嵐ハッピーバースデー', 'url': 'http://twitter.com/search?q=%23%E4%BA%9C%E5%B5%90%E3%83%8F%E3%83%83%E3%83%94%E3%83%BC%E3%83%90%E3%83%BC%E3%82%B9%E3%83%87%E3%83%BC', 'promoted_content': None, 'query': '%23%E4%BA%9C%E5%B5%90%E3%83%8F%E3%83%83%E3%83%94%E3%83%BC%E3%83%90%E3%83%BC%E3%82%B9%E3%83%87%E3%83%BC', 'tweet_volume': 10541}, {'name': '#ฉลาดเกมส์โกงEP1', 'url': 'http://twitter.com/search?q=%23%E0%B8%89%E0%B8%A5%E0%B8%B2%E0%B8%94%E0%B9%80%E0%B8%81%E0%B8%A1%E0%B8%AA%E0%B9%8C%E0%B9%82%E0%B8%81%E0%B8%87EP1', 'promoted_content': None, 'query': '%23%E0%B8%89%E0%B8%A5%E0%B8%B2%E0%B8%94%E0%B9%80%E0%B8%81%E0%B8%A1%E0%B8%AA%E0%B9%8C%E0%B9%82%E0%B8%81%E0%B8%87EP1', 'tweet_volume': 52467}, {'name': '#関ジャニクロニクルF', 'url': 'http://twitter.com/search?q=%23%E9%96%A2%E3%82%B8%E3%83%A3%E3%83%8B%E3%82%AF%E3%83%AD%E3%83%8B%E3%82%AF%E3%83%ABF', 'promoted_content': None, 'query': '%23%E9%96%A2%E3%82%B8%E3%83%A3%E3%83%8B%E3%82%AF%E3%83%AD%E3%83%8B%E3%82%AF%E3%83%ABF', 'tweet_volume': 14715}, {'name': '#MondayMotivation', 'url': 'http://twitter.com/search?q=%23MondayMotivation', 'promoted_content': None, 'query': '%23MondayMotivation', 'tweet_volume': 61091}, {'name': '#WatermelonSugarDay', 'url': 'http://twitter.com/search?q=%23WatermelonSugarDay', 'promoted_content': None, 'query': '%23WatermelonSugarDay', 'tweet_volume': 21496}, {'name': '#RECORDLIXO', 'url': 'http://twitter.com/search?q=%23RECORDLIXO', 'promoted_content': None, 'query': '%23RECORDLIXO', 'tweet_volume': None}, {'name': '#UribeSoyYo', 'url': 'http://twitter.com/search?q=%23UribeSoyYo', 'promoted_content': None, 'query': '%23UribeSoyYo', 'tweet_volume': 19265}, {'name': '#予測変換で1人しりとりしろ', 'url': 'http://twitter.com/search?q=%23%E4%BA%88%E6%B8%AC%E5%A4%89%E6%8F%9B%E3%81%A71%E4%BA%BA%E3%81%97%E3%82%8A%E3%81%A8%E3%82%8A%E3%81%97%E3%82%8D', 'promoted_content': None, 'query': '%23%E4%BA%88%E6%B8%AC%E5%A4%89%E6%8F%9B%E3%81%A71%E4%BA%BA%E3%81%97%E3%82%8A%E3%81%A8%E3%82%8A%E3%81%97%E3%82%8D', 'tweet_volume': None}, {'name': '#スタージェンムーン', 'url': 'http://twitter.com/search?q=%23%E3%82%B9%E3%82%BF%E3%83%BC%E3%82%B8%E3%82%A7%E3%83%B3%E3%83%A0%E3%83%BC%E3%83%B3', 'promoted_content': None, 'query': '%23%E3%82%B9%E3%82%BF%E3%83%BC%E3%82%B8%E3%82%A7%E3%83%B3%E3%83%A0%E3%83%BC%E3%83%B3', 'tweet_volume': 25995}, {'name': '#DearMichigan', 'url': 'http://twitter.com/search?q=%23DearMichigan', 'promoted_content': None, 'query': '%23DearMichigan', 'tweet_volume': 24578}, {'name': '#ComisariaVirtual', 'url': 'http://twitter.com/search?q=%23ComisariaVirtual', 'promoted_content': None, 'query': '%23ComisariaVirtual', 'tweet_volume': None}, {'name': '#RegresoAClases', 'url': 'http://twitter.com/search?q=%23RegresoAClases', 'promoted_content': None, 'query': '%23RegresoAClases', 'tweet_volume': None}, {'name': '#CBMğdrÖğrt20Bin', 'url': 'http://twitter.com/search?q=%23CBM%C4%9Fdr%C3%96%C4%9Frt20Bin', 'promoted_content': None, 'query': '%23CBM%C4%9Fdr%C3%96%C4%9Frt20Bin', 'tweet_volume': None}, {'name': '#お前らのホイール晒せ', 'url': 'http://twitter.com/search?q=%23%E3%81%8A%E5%89%8D%E3%82%89%E3%81%AE%E3%83%9B%E3%82%A4%E3%83%BC%E3%83%AB%E6%99%92%E3%81%9B', 'promoted_content': None, 'query': '%23%E3%81%8A%E5%89%8D%E3%82%89%E3%81%AE%E3%83%9B%E3%82%A4%E3%83%BC%E3%83%AB%E6%99%92%E3%81%9B', 'tweet_volume': None}, {'name': '#MahaGovtExposedInSSRCase', 'url': 'http://twitter.com/search?q=%23MahaGovtExposedInSSRCase', 'promoted_content': None, 'query': '%23MahaGovtExposedInSSRCase', 'tweet_volume': 221254}, {'name': '#BuenLunes', 'url': 'http://twitter.com/search?q=%23BuenLunes', 'promoted_content': None, 'query': '%23BuenLunes', 'tweet_volume': None}, {'name': '#Its_JKS_Time', 'url': 'http://twitter.com/search?q=%23Its_JKS_Time', 'promoted_content': None, 'query': '%23Its_JKS_Time', 'tweet_volume': None}, {'name': '#GloboLixo', 'url': 'http://twitter.com/search?q=%23GloboLixo', 'promoted_content': None, 'query': '%23GloboLixo', 'tweet_volume': 27046}, {'name': '#Hakkari', 'url': 'http://twitter.com/search?q=%23Hakkari', 'promoted_content': None, 'query': '%23Hakkari', 'tweet_volume': None}, {'name': '#미도링_배우해줘서_고마워_생일축하해', 'url': 'http://twitter.com/search?q=%23%EB%AF%B8%EB%8F%84%EB%A7%81_%EB%B0%B0%EC%9A%B0%ED%95%B4%EC%A4%98%EC%84%9C_%EA%B3%A0%EB%A7%88%EC%9B%8C_%EC%83%9D%EC%9D%BC%EC%B6%95%ED%95%98%ED%95%B4', 'promoted_content': None, 'query': '%23%EB%AF%B8%EB%8F%84%EB%A7%81_%EB%B0%B0%EC%9A%B0%ED%95%B4%EC%A4%98%EC%84%9C_%EA%B3%A0%EB%A7%88%EC%9B%8C_%EC%83%9D%EC%9D%BC%EC%B6%95%ED%95%98%ED%95%B4', 'tweet_volume': 11737}, {'name': '#BuenosDiasTVN', 'url': 'http://twitter.com/search?q=%23BuenosDiasTVN', 'promoted_content': None, 'query': '%23BuenosDiasTVN', 'tweet_volume': None}, {'name': '#갱얼쥐즈_개훌륭_본방사수', 'url': 'http://twitter.com/search?q=%23%EA%B0%B1%EC%96%BC%EC%A5%90%EC%A6%88_%EA%B0%9C%ED%9B%8C%EB%A5%AD_%EB%B3%B8%EB%B0%A9%EC%82%AC%EC%88%98', 'promoted_content': None, 'query': '%23%EA%B0%B1%EC%96%BC%EC%A5%90%EC%A6%88_%EA%B0%9C%ED%9B%8C%EB%A5%AD_%EB%B3%B8%EB%B0%A9%EC%82%AC%EC%88%98', 'tweet_volume': 21830}, {'name': '#동헌아_우리의_여름은_온통_너였어', 'url': 'http://twitter.com/search?q=%23%EB%8F%99%ED%97%8C%EC%95%84_%EC%9A%B0%EB%A6%AC%EC%9D%98_%EC%97%AC%EB%A6%84%EC%9D%80_%EC%98%A8%ED%86%B5_%EB%84%88%EC%98%80%EC%96%B4', 'promoted_content': None, 'query': '%23%EB%8F%99%ED%97%8C%EC%95%84_%EC%9A%B0%EB%A6%AC%EC%9D%98_%EC%97%AC%EB%A6%84%EC%9D%80_%EC%98%A8%ED%86%B5_%EB%84%88%EC%98%80%EC%96%B4', 'tweet_volume': 16701}, {'name': '#ぴと打ってぴえんと出たらJK見た人強制', 'url': 'http://twitter.com/search?q=%23%E3%81%B4%E3%81%A8%E6%89%93%E3%81%A3%E3%81%A6%E3%81%B4%E3%81%88%E3%82%93%E3%81%A8%E5%87%BA%E3%81%9F%E3%82%89JK%E8%A6%8B%E3%81%9F%E4%BA%BA%E5%BC%B7%E5%88%B6', 'promoted_content': None, 'query': '%23%E3%81%B4%E3%81%A8%E6%89%93%E3%81%A3%E3%81%A6%E3%81%B4%E3%81%88%E3%82%93%E3%81%A8%E5%87%BA%E3%81%9F%E3%82%89JK%E8%A6%8B%E3%81%9F%E4%BA%BA%E5%BC%B7%E5%88%B6', 'tweet_volume': None}, {'name': '#मोदीजी_क्वारंटाइन_होइये', 'url': 'http://twitter.com/search?q=%23%E0%A4%AE%E0%A5%8B%E0%A4%A6%E0%A5%80%E0%A4%9C%E0%A5%80_%E0%A4%95%E0%A5%8D%E0%A4%B5%E0%A4%BE%E0%A4%B0%E0%A4%82%E0%A4%9F%E0%A4%BE%E0%A4%87%E0%A4%A8_%E0%A4%B9%E0%A5%8B%E0%A4%87%E0%A4%AF%E0%A5%87', 'promoted_content': None, 'query': '%23%E0%A4%AE%E0%A5%8B%E0%A4%A6%E0%A5%80%E0%A4%9C%E0%A5%80_%E0%A4%95%E0%A5%8D%E0%A4%B5%E0%A4%BE%E0%A4%B0%E0%A4%82%E0%A4%9F%E0%A4%BE%E0%A4%87%E0%A4%A8_%E0%A4%B9%E0%A5%8B%E0%A4%87%E0%A4%AF%E0%A5%87', 'tweet_volume': 17864}, {'name': '#All_EXOL_do_is_1위', 'url': 'http://twitter.com/search?q=%23All_EXOL_do_is_1%EC%9C%84', 'promoted_content': None, 'query': '%23All_EXOL_do_is_1%EC%9C%84', 'tweet_volume': 14491}, {'name': '#forçaovotz', 'url': 'http://twitter.com/search?q=%23for%C3%A7aovotz', 'promoted_content': None, 'query': '%23for%C3%A7aovotz', 'tweet_volume': None}], 'as_of': '2020-08-03T15:15:21Z', 'created_at': '2020-08-03T15:08:51Z', 'locations': [{'name': 'Worldwide', 'woeid': 1}]}]\n"
     ]
    }
   ],
   "source": [
    "print(world_trends)"
   ]
  },
  {
   "cell_type": "code",
   "execution_count": 31,
   "metadata": {},
   "outputs": [
    {
     "name": "stdout",
     "output_type": "stream",
     "text": [
      "#SECONDCOUNTDOWN=======128400\n",
      "#ARMYSelcaDay=======717258\n",
      "#えと打って最初に出たのがお前の武器=======10030\n",
      "#ここでやめんなrunを聴け=======103711\n",
      "#LISAforvivoS7=======780244\n",
      "The Rock=======20864\n",
      "RESPECT NIALL=======28633\n",
      "Frorida=======28864\n",
      "下野さん=======16588\n",
      "Willian=======35775\n",
      "らくがきAR=======21140\n",
      "Sancho=======79223\n",
      "John Hume=======57887\n",
      "Shoprite=======68906\n",
      "Barron=======26960\n",
      "#태민표감성보컬_투키즈0804=======61680\n",
      "#しゃべくり007=======43688\n",
      "#KappaNoVasco=======36271\n",
      "#CDTVライブライブ=======55949\n",
      "#ZimbabweanLivesMatter=======318274\n",
      "#FelizLunes=======23736\n",
      "#XiaomiMi10=======27071\n",
      "#SexyZone_RUN=======50150\n",
      "#亜嵐ハッピーバースデー=======10541\n",
      "#ฉลาดเกมส์โกงEP1=======52467\n",
      "#関ジャニクロニクルF=======14715\n",
      "#MondayMotivation=======61091\n",
      "#WatermelonSugarDay=======21496\n",
      "#RECORDLIXO=======None\n",
      "#UribeSoyYo=======19265\n",
      "#予測変換で1人しりとりしろ=======None\n",
      "#スタージェンムーン=======25995\n",
      "#DearMichigan=======24578\n",
      "#ComisariaVirtual=======None\n",
      "#RegresoAClases=======None\n",
      "#CBMğdrÖğrt20Bin=======None\n",
      "#お前らのホイール晒せ=======None\n",
      "#MahaGovtExposedInSSRCase=======221254\n",
      "#BuenLunes=======None\n",
      "#Its_JKS_Time=======None\n",
      "#GloboLixo=======27046\n",
      "#Hakkari=======None\n",
      "#미도링_배우해줘서_고마워_생일축하해=======11737\n",
      "#BuenosDiasTVN=======None\n",
      "#갱얼쥐즈_개훌륭_본방사수=======21830\n",
      "#동헌아_우리의_여름은_온통_너였어=======16701\n",
      "#ぴと打ってぴえんと出たらJK見た人強制=======None\n",
      "#मोदीजी_क्वारंटाइन_होइये=======17864\n",
      "#All_EXOL_do_is_1위=======14491\n",
      "#forçaovotz=======None\n"
     ]
    }
   ],
   "source": [
    "for trend in world_trends[0][\"trends\"]:\n",
    "    print(trend[\"name\"] + \"=======\" + str(trend[\"tweet_volume\"]))"
   ]
  },
  {
   "cell_type": "code",
   "execution_count": 32,
   "metadata": {},
   "outputs": [],
   "source": [
    "q = '#matura2020'"
   ]
  },
  {
   "cell_type": "code",
   "execution_count": 33,
   "metadata": {},
   "outputs": [],
   "source": [
    "count = 100"
   ]
  },
  {
   "cell_type": "code",
   "execution_count": 47,
   "metadata": {},
   "outputs": [],
   "source": [
    "from urllib.parse import unquote"
   ]
  },
  {
   "cell_type": "code",
   "execution_count": 48,
   "metadata": {},
   "outputs": [],
   "source": [
    "search_results = twitter_api.search.tweets(q=q, count=count)"
   ]
  },
  {
   "cell_type": "code",
   "execution_count": 49,
   "metadata": {},
   "outputs": [],
   "source": [
    "statuses = search_results[\"statuses\"]"
   ]
  },
  {
   "cell_type": "code",
   "execution_count": 50,
   "metadata": {},
   "outputs": [],
   "source": [
    "import json"
   ]
  },
  {
   "cell_type": "code",
   "execution_count": 51,
   "metadata": {},
   "outputs": [
    {
     "name": "stdout",
     "output_type": "stream",
     "text": [
      "Liczba statusów:  100\n",
      "Liczba statusów:  200\n",
      "Liczba statusów:  288\n",
      "Liczba statusów:  388\n",
      "Liczba statusów:  488\n"
     ]
    },
    {
     "ename": "TypeError",
     "evalue": "__init__() got an unexpected keyword argument 'ident'",
     "output_type": "error",
     "traceback": [
      "\u001b[0;31m---------------------------------------------------------------------------\u001b[0m",
      "\u001b[0;31mTypeError\u001b[0m                                 Traceback (most recent call last)",
      "\u001b[0;32m<ipython-input-51-5c2d05fcc0e1>\u001b[0m in \u001b[0;36m<module>\u001b[0;34m\u001b[0m\n\u001b[1;32m     12\u001b[0m     \u001b[0mstatuses\u001b[0m \u001b[0;34m+=\u001b[0m \u001b[0msearch_results\u001b[0m\u001b[0;34m[\u001b[0m\u001b[0;34m\"statuses\"\u001b[0m\u001b[0;34m]\u001b[0m\u001b[0;34m\u001b[0m\u001b[0;34m\u001b[0m\u001b[0m\n\u001b[1;32m     13\u001b[0m \u001b[0;34m\u001b[0m\u001b[0m\n\u001b[0;32m---> 14\u001b[0;31m \u001b[0mprint\u001b[0m\u001b[0;34m(\u001b[0m\u001b[0mjson\u001b[0m\u001b[0;34m.\u001b[0m\u001b[0mdumps\u001b[0m\u001b[0;34m(\u001b[0m\u001b[0mstatuses\u001b[0m\u001b[0;34m[\u001b[0m\u001b[0;36m0\u001b[0m\u001b[0;34m]\u001b[0m\u001b[0;34m,\u001b[0m \u001b[0mident\u001b[0m \u001b[0;34m=\u001b[0m \u001b[0;36m1\u001b[0m\u001b[0;34m)\u001b[0m\u001b[0;34m)\u001b[0m\u001b[0;34m\u001b[0m\u001b[0;34m\u001b[0m\u001b[0m\n\u001b[0m",
      "\u001b[0;32m/usr/lib/python3.6/json/__init__.py\u001b[0m in \u001b[0;36mdumps\u001b[0;34m(obj, skipkeys, ensure_ascii, check_circular, allow_nan, cls, indent, separators, default, sort_keys, **kw)\u001b[0m\n\u001b[1;32m    236\u001b[0m         \u001b[0mcheck_circular\u001b[0m\u001b[0;34m=\u001b[0m\u001b[0mcheck_circular\u001b[0m\u001b[0;34m,\u001b[0m \u001b[0mallow_nan\u001b[0m\u001b[0;34m=\u001b[0m\u001b[0mallow_nan\u001b[0m\u001b[0;34m,\u001b[0m \u001b[0mindent\u001b[0m\u001b[0;34m=\u001b[0m\u001b[0mindent\u001b[0m\u001b[0;34m,\u001b[0m\u001b[0;34m\u001b[0m\u001b[0;34m\u001b[0m\u001b[0m\n\u001b[1;32m    237\u001b[0m         \u001b[0mseparators\u001b[0m\u001b[0;34m=\u001b[0m\u001b[0mseparators\u001b[0m\u001b[0;34m,\u001b[0m \u001b[0mdefault\u001b[0m\u001b[0;34m=\u001b[0m\u001b[0mdefault\u001b[0m\u001b[0;34m,\u001b[0m \u001b[0msort_keys\u001b[0m\u001b[0;34m=\u001b[0m\u001b[0msort_keys\u001b[0m\u001b[0;34m,\u001b[0m\u001b[0;34m\u001b[0m\u001b[0;34m\u001b[0m\u001b[0m\n\u001b[0;32m--> 238\u001b[0;31m         **kw).encode(obj)\n\u001b[0m\u001b[1;32m    239\u001b[0m \u001b[0;34m\u001b[0m\u001b[0m\n\u001b[1;32m    240\u001b[0m \u001b[0;34m\u001b[0m\u001b[0m\n",
      "\u001b[0;31mTypeError\u001b[0m: __init__() got an unexpected keyword argument 'ident'"
     ]
    }
   ],
   "source": [
    "for _ in range(5):\n",
    "    print('Liczba statusów: ', len(statuses))\n",
    "    try:\n",
    "        next_results = search_results['search_metadata']['next_results']\n",
    "    except KeyError as e:\n",
    "        break\n",
    "        \n",
    "    kwargs = dict([kv.split('=') for kv in unquote(next_results[1:]).split(\"&\")])\n",
    "    \n",
    "    \n",
    "    search_results = twitter_api.search.tweets(**kwargs)\n",
    "    statuses += search_results[\"statuses\"]\n",
    "\n",
    "print(json.dumps(statuses[0], ident = 1))"
   ]
  },
  {
   "cell_type": "code",
   "execution_count": null,
   "metadata": {},
   "outputs": [],
   "source": []
  }
 ],
 "metadata": {
  "kernelspec": {
   "display_name": "Python 3",
   "language": "python",
   "name": "python3"
  },
  "language_info": {
   "codemirror_mode": {
    "name": "ipython",
    "version": 3
   },
   "file_extension": ".py",
   "mimetype": "text/x-python",
   "name": "python",
   "nbconvert_exporter": "python",
   "pygments_lexer": "ipython3",
   "version": "3.6.9"
  }
 },
 "nbformat": 4,
 "nbformat_minor": 4
}
